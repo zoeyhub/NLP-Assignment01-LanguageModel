{
 "cells": [
  {
   "cell_type": "code",
   "execution_count": 1,
   "metadata": {},
   "outputs": [
    {
     "name": "stderr",
     "output_type": "stream",
     "text": [
      "C:\\ProgramData\\Anaconda3\\lib\\site-packages\\IPython\\core\\interactiveshell.py:3049: DtypeWarning: Columns (0,4) have mixed types. Specify dtype option on import or set low_memory=False.\n",
      "  interactivity=interactivity, compiler=compiler, result=result)\n",
      "Building prefix dict from the default dictionary ...\n",
      "Loading model from cache C:\\Windows\\Temp\\jieba.cache\n"
     ]
    },
    {
     "name": "stdout",
     "output_type": "stream",
     "text": [
      "0\n"
     ]
    },
    {
     "name": "stderr",
     "output_type": "stream",
     "text": [
      "Loading model cost 1.225 seconds.\n",
      "Prefix dict has been built succesfully.\n"
     ]
    },
    {
     "name": "stdout",
     "output_type": "stream",
     "text": [
      "10000\n",
      "20000\n",
      "30000\n",
      "40000\n",
      "50000\n",
      "60000\n",
      "70000\n",
      "80000\n",
      "90000\n",
      "100000\n",
      "110000\n",
      "120000\n",
      "130000\n",
      "140000\n",
      "150000\n",
      "160000\n",
      "170000\n",
      "180000\n",
      "190000\n",
      "200000\n",
      "210000\n",
      "220000\n",
      "230000\n",
      "240000\n",
      "250000\n",
      "260000\n"
     ]
    }
   ],
   "source": [
    "import pandas as pd\n",
    "import re\n",
    "from collections import Counter\n",
    "import jieba\n",
    "\n",
    "filename = 'movie_comments.csv'\n",
    "content = pd.read_csv(filename)\n",
    "articles = content['comment'].tolist()\n",
    "\n",
    "def token(string):\n",
    "    # we will learn the regular expression next course.\n",
    "    return re.findall('\\w+', string)\n",
    "\n",
    "articles_clean = [''.join(token(str(a)))for a in articles]\n",
    "                      \n",
    "with open('article_9k.txt', 'w',encoding='utf-8') as f:\n",
    "    for a in articles_clean:\n",
    "        f.write(a + '\\n')\n",
    "                      \n",
    "def cut(string): \n",
    "    return list(jieba.cut(string))\n",
    "                      \n",
    "TOKEN = []\n",
    "for i, line in enumerate((open('article_9k.txt',encoding='utf-8'))):\n",
    "    if i % 10000 == 0: print(i)\n",
    "    # replace 10000 with a big number when you do your homework. \n",
    "    TOKEN += cut(line)\n"
   ]
  },
  {
   "cell_type": "code",
   "execution_count": 2,
   "metadata": {},
   "outputs": [],
   "source": [
    "\n",
    "words_count = Counter(TOKEN)\n",
    "\n",
    "TOKEN = [str(t) for t in TOKEN]\n",
    "TOKEN_2_GRAM = [''.join(TOKEN[i:i+2]) for i in range(len(TOKEN[:-2]))]\n",
    "words_count_2 = Counter(TOKEN_2_GRAM)\n",
    "\n",
    "def prob_1(word): \n",
    "    return words_count[word] / len(TOKEN)\n",
    "def prob_2(word1, word2):\n",
    "    if word1 + word2 in words_count_2: return words_count_2[word1+word2] / words_count[word2]\n",
    "    else:\n",
    "        return 1 / len(TOKEN_2_GRAM)\n",
    "def get_probability(sentence):\n",
    "    words = cut(sentence)\n",
    "    \n",
    "    sentence_pro = 1\n",
    "    \n",
    "    for i, word in enumerate(words[:-1]):\n",
    "        next_ = words[i+1]\n",
    "        probability = prob_2(word, next_)\n",
    "        sentence_pro *= probability\n",
    "    sentence_pro *= prob_1(words[-1])\n",
    "    return sentence_pro"
   ]
  },
  {
   "cell_type": "code",
   "execution_count": 3,
   "metadata": {},
   "outputs": [],
   "source": [
    "eat = \"\"\"\n",
    "aim => time who action food_1 cooking food_2 ， how\n",
    "time => 今天 | 昨天 | 前天\n",
    "who => 我 | 他 | 小明 | 红红 | 龟龟 | 方方\n",
    "action => 吃了 | 尝了\n",
    "food_1 => 西红柿 | 尖椒 | 木耳 | 腐竹 | 青椒 | 黄豆拌饭酱\n",
    "cooking => 炒 | 凉拌\n",
    "food_2 => 鸡蛋 | 皮蛋 | 肉丝 | 土豆丝 | 茄子 | 油菜\n",
    "how => 好吃 | 不好吃 | 你猜好不好吃 | 你尝尝\n",
    "\"\"\"\n",
    "\n",
    "import random\n",
    "\n",
    "def generate_grammar(grammar_str: str, target, split='=>'):\n",
    "    grammar = {}   \n",
    "    for line in grammar_str.split('\\n'):\n",
    "        if not line: continue\n",
    "        expression, formula = line.split(split)\n",
    "        formulas = formula.split('|')\n",
    "        formulas = [f.split() for f in formulas]\n",
    "        grammar[expression.strip()] = formulas        \n",
    "#        print(expression, ':', formulas)\n",
    "        \n",
    "    return grammar\n",
    "\n",
    "choice_a_expr = random.choice\n",
    "\n",
    "def generate_by_grammar(grammar: dict,target: str):\n",
    "    if target not in grammar: return target\n",
    "    expr = choice_a_expr(grammar[target])\n",
    "#    print(expr)\n",
    "    return ''.join(generate_by_grammar(grammar, t) for t in expr)\n",
    "\n",
    "def generate_by_str(grammar_str, split, target):\n",
    "    grammar = generate_grammar(grammar_str, target, split)\n",
    "    return generate_by_grammar(grammar, target)\n",
    "\n"
   ]
  },
  {
   "cell_type": "code",
   "execution_count": 4,
   "metadata": {
    "scrolled": true
   },
   "outputs": [
    {
     "name": "stdout",
     "output_type": "stream",
     "text": [
      "今天他吃了青椒凉拌皮蛋，你猜好不好吃 is more possible with Prb 3.179767276616081e-53\n",
      "---- 昨天我尝了黄豆拌饭酱凉拌茄子，你猜好不好吃 with probility 6.093075079378979e-73\n",
      "---- 今天我尝了黄豆拌饭酱炒土豆丝，好吃 with probility 4.016029346991201e-67\n",
      "---- 今天方方尝了木耳凉拌茄子，你猜好不好吃 with probility 1.0809165885202968e-64\n",
      "---- 昨天红红吃了西红柿炒肉丝，你猜好不好吃 with probility 7.071074409935043e-61\n",
      "---- 昨天小明尝了青椒凉拌肉丝，不好吃 with probility 8.905586843658199e-60\n",
      "---- 今天他吃了黄豆拌饭酱炒鸡蛋，你尝尝 with probility 1.3425094745677632e-57\n",
      "---- 今天红红吃了木耳凉拌茄子，你尝尝 with probility 5.29618422536699e-57\n",
      "---- 今天龟龟吃了腐竹炒茄子，你尝尝 with probility 5.29618422536699e-57\n",
      "---- 今天他尝了木耳炒茄子，不好吃 with probility 1.189254486418448e-56\n",
      "---- 今天他吃了青椒凉拌皮蛋，你猜好不好吃 with probility 3.179767276616081e-53\n"
     ]
    }
   ],
   "source": [
    "sp={}\n",
    "for i in range(10):\n",
    "    a = generate_by_str(eat, split='=>', target='aim')\n",
    "    sp[i] = a,get_probability(a)\n",
    "sorted_sp = sorted(list(sp.values()),key=lambda x: x[1]) \n",
    "print('{} is more possible with Prb {}'.format(sorted_sp[-1][0],sorted_sp[-1][1]))\n",
    "for i in range(10):\n",
    "    print('-'*4 + ' {} with probility {}'.format(sorted_sp[i][0],sorted_sp[i][1]))\n",
    "\n",
    "\n"
   ]
  },
  {
   "cell_type": "code",
   "execution_count": null,
   "metadata": {},
   "outputs": [],
   "source": []
  }
 ],
 "metadata": {
  "kernelspec": {
   "display_name": "Python 3",
   "language": "python",
   "name": "python3"
  },
  "language_info": {
   "codemirror_mode": {
    "name": "ipython",
    "version": 3
   },
   "file_extension": ".py",
   "mimetype": "text/x-python",
   "name": "python",
   "nbconvert_exporter": "python",
   "pygments_lexer": "ipython3",
   "version": "3.7.3"
  }
 },
 "nbformat": 4,
 "nbformat_minor": 2
}
