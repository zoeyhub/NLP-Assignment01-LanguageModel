{
 "cells": [
  {
   "cell_type": "markdown",
   "metadata": {},
   "source": [
    "#### 0. Can you come up out 3 sceneraies which use AI methods? "
   ]
  },
  {
   "cell_type": "markdown",
   "metadata": {},
   "source": [
    "Ans: \n",
    "   - 无人驾驶快递车；语音助手天猫精灵，小度；对话机器人"
   ]
  },
  {
   "cell_type": "markdown",
   "metadata": {},
   "source": [
    "#### 1. How do we use Github; Why do we use Jupyter and Pycharm;"
   ]
  },
  {
   "cell_type": "markdown",
   "metadata": {},
   "source": [
    "Ans: \n",
    "1. Github:用于代码共享、版本管理和项目协作等。\n",
    " - 注册账户后，右上角点击“+”“New repository”,新建仓库\n",
    " - 填写仓库名称和描述等设置,编写内容\n",
    " - 需要保留原版时，在仓库界面左侧点击“Branch”,输入更改版的名称，点击“Create branch”,进行更改\n",
    " - 仓库界面点击“Pull request”,对分支进行查看合并等处理\n",
    " - 仓库界面点击“Settings”,页面最下方点击“Delete this repository”,删除仓库\n",
    "2. \n",
    " - Jupyter\n",
    "     - 可视化,交互式笔记本，便于单独运行测试\n",
    "     - 很多其他插件小功能\n",
    " - Pycharm\n",
    "     - 带有一整套可以帮助用户在使用Python语言开发时提高其效率的工具\n",
    "     - 有自动补全等便捷功能\n",
    " - 两者各有利弊，但将两者结合使用便可相互弥补，开启美好的敲键盘之旅"
   ]
  },
  {
   "cell_type": "markdown",
   "metadata": {},
   "source": [
    "#### 2. What's the Probability Model?"
   ]
  },
  {
   "cell_type": "markdown",
   "metadata": {},
   "source": [
    "Ans:\n",
    "   - 用一定的数学函数关系(y => f(x))，利用分析对象(x)出现的频率，计算所求目的(y)出现的概率"
   ]
  },
  {
   "cell_type": "markdown",
   "metadata": {},
   "source": [
    "#### 3. Can you came up with some sceneraies at which we could use Probability Model?"
   ]
  },
  {
   "cell_type": "markdown",
   "metadata": {},
   "source": [
    "Ans:\n",
    "   - 判断一句话出现的概率\n",
    "   - 文本分类"
   ]
  },
  {
   "cell_type": "markdown",
   "metadata": {},
   "source": [
    "#### 4. Why do we use probability and what's the difficult points for programming based on parsing and pattern match?"
   ]
  },
  {
   "cell_type": "markdown",
   "metadata": {},
   "source": [
    "Ans:\n",
    "  - 概率模型可以视为基于经验的模型，避免了基于规则的束缚，更灵活，但需要大量的经验数据\n",
    "  - 对于有不同规则的任务需要先分析内部的规则，局限于所制定的规则，泛化性低"
   ]
  },
  {
   "cell_type": "markdown",
   "metadata": {},
   "source": [
    "#### 5. What's the Language Model;"
   ]
  },
  {
   "cell_type": "markdown",
   "metadata": {},
   "source": [
    "Ans:\n",
    "  - 用于判断一句话出现的“分值”，判断其是否合理的方法\n",
    "  - $ Pr(sentence) = Pr(w_1w_2...w_n) $"
   ]
  },
  {
   "cell_type": "markdown",
   "metadata": {},
   "source": [
    "#### 6. Can you came up with some sceneraies at which we could use Language Model?\n"
   ]
  },
  {
   "cell_type": "markdown",
   "metadata": {},
   "source": [
    "Ans:\n",
    "  - 输入法的预测\n",
    "  - 语音识别中同音的情况\n",
    "  - 机器翻译"
   ]
  },
  {
   "cell_type": "markdown",
   "metadata": {},
   "source": [
    "#### 7. What's the 1-gram language model;"
   ]
  },
  {
   "cell_type": "markdown",
   "metadata": {},
   "source": [
    "Ans:\n",
    "  - 文本序列中，词与词之间相互独立，一个词的存在与否与前后词无关\n",
    "  - $ Pr(senrence) = Pr(w_1)Pr(w_2)...Pr(w_3)  $"
   ]
  },
  {
   "cell_type": "markdown",
   "metadata": {},
   "source": [
    "#### 8. What's the disadvantages and advantages of 1-gram language model;"
   ]
  },
  {
   "cell_type": "markdown",
   "metadata": {},
   "source": [
    "Ans\n",
    "  - 计算方便，模型简单\n",
    "  - 忽略了上下文之间的关系，准确性低"
   ]
  },
  {
   "cell_type": "markdown",
   "metadata": {},
   "source": [
    "#### 9. What't the 2-gram models;"
   ]
  },
  {
   "cell_type": "markdown",
   "metadata": {},
   "source": [
    "Ans:\n",
    "  - 文本序列中，一个词的出现与前面一个词有关"
   ]
  },
  {
   "cell_type": "markdown",
   "metadata": {},
   "source": [
    "#### 10.generate_best模型的问题及如何改进"
   ]
  },
  {
   "cell_type": "markdown",
   "metadata": {},
   "source": [
    "Ans: \n",
    "   - 一方面是数据集大小的问题，一方面是数据集多样性的问题\n",
    "   - 对数据集进行增量处理或采用或结合其他数据集"
   ]
  },
  {
   "cell_type": "code",
   "execution_count": null,
   "metadata": {},
   "outputs": [],
   "source": []
  }
 ],
 "metadata": {
  "kernelspec": {
   "display_name": "Python 3",
   "language": "python",
   "name": "python3"
  },
  "language_info": {
   "codemirror_mode": {
    "name": "ipython",
    "version": 3
   },
   "file_extension": ".py",
   "mimetype": "text/x-python",
   "name": "python",
   "nbconvert_exporter": "python",
   "pygments_lexer": "ipython3",
   "version": "3.7.3"
  }
 },
 "nbformat": 4,
 "nbformat_minor": 2
}
