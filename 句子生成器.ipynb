{
 "cells": [
  {
   "cell_type": "code",
   "execution_count": 67,
   "metadata": {},
   "outputs": [],
   "source": [
    "eat = \"\"\"\n",
    "sentence => time who action food_1 cooking food_2 ， how\n",
    "time => 今天 | 昨天 | 前天\n",
    "who => 我 | 他 | 小明 | 红红 | 龟龟 | 方方\n",
    "action => 吃了 | 尝了\n",
    "food_1 => 西红柿 | 尖椒 | 木耳 | 腐竹 | 青椒 | 黄豆拌饭酱\n",
    "cooking => 炒 | 凉拌\n",
    "food_2 => 鸡蛋 | 皮蛋 | 肉丝 | 土豆丝 | 茄子 | 油菜\n",
    "how => 好吃 | 不好吃 | 你猜好不好吃 | 你尝尝\n",
    "\"\"\""
   ]
  },
  {
   "cell_type": "code",
   "execution_count": 68,
   "metadata": {},
   "outputs": [],
   "source": [
    "aviation_incident_title = \"\"\"\n",
    "title => time company aircraft_num aircraft_type action flight_reg_letter flight_reg_num airport - airport flight phase content\n",
    "time => year mouth day\n",
    "year => 2010年 | 2011年 | 2012年 | 2013年 |2014年\n",
    "mouth => 2月 | 4月 | 6月 | 7月 | 12月\n",
    "day => 1日 | 3日 | 5日 | 7日 | 12日 | 15日 | 20日 | 22日 | 27日\n",
    "company => 国航 | 川航 | 深航 | 天津航 | 华夏航 | 江西航 | 山航\n",
    "aircraft_type => / B- num num num num\n",
    "aircraft_num => A321-200 | B737-800 | A320-200 | B737-700 | A319-100\n",
    "action => 执行\n",
    "flight_reg_letter => CA | MF | MU | MF | CZ\n",
    "flight_reg_num => num num num num\n",
    "num => 0 | 1 | 2 | 3 | 4 | 5 | 6 | 7 | 8 | 9\n",
    "airport => 温州 | 上海浦东 | 济州 | 广州 | 深圳 | 郑州 | 洛阳 | 天津 | 北京 | 南京 | 重庆 | 杭州\n",
    "flight => 航班\n",
    "phase => 进近阶段 | 巡航阶段\n",
    "content => 触发RA警告 | 发生RA警告\n",
    "\"\"\""
   ]
  },
  {
   "cell_type": "code",
   "execution_count": 69,
   "metadata": {},
   "outputs": [],
   "source": [
    "import random\n",
    "\n",
    "def generate_grammar(grammar_str: str, target, split='=>'):\n",
    "    grammar = {}   \n",
    "    for line in grammar_str.split('\\n'):\n",
    "        if not line: continue\n",
    "        expression, formula = line.split(split)\n",
    "        formulas = formula.split('|')\n",
    "        formulas = [f.split() for f in formulas]\n",
    "        grammar[expression.strip()] = formulas        \n",
    "#        print(expression, ':', formulas)\n",
    "        \n",
    "    return grammar\n",
    "\n",
    "choice_a_expr = random.choice\n",
    "\n",
    "def generate_by_grammar(grammar: dict,target: str):\n",
    "    if target not in grammar: return target\n",
    "    expr = choice_a_expr(grammar[target])\n",
    "#    print(expr)\n",
    "    return ''.join(generate_by_grammar(grammar, t) for t in expr)\n",
    "\n",
    "def generate_by_str(grammar_str, split, target):\n",
    "    grammar = generate_grammar(grammar_str, target, split)\n",
    "    return generate_by_grammar(grammar, target)"
   ]
  },
  {
   "cell_type": "code",
   "execution_count": 70,
   "metadata": {},
   "outputs": [],
   "source": [
    "def generate_n(grammar_str, split, target, n):\n",
    "    for i in range(n):\n",
    "        print(generate_by_str(grammar_str, split, target))\n",
    "    pass"
   ]
  },
  {
   "cell_type": "code",
   "execution_count": 71,
   "metadata": {},
   "outputs": [
    {
     "name": "stdout",
     "output_type": "stream",
     "text": [
      "2010年7月22日川航A320-200/B-0017执行MU5597洛阳-温州航班巡航阶段触发RA警告\n",
      "2010年2月27日天津航B737-700/B-0230执行MU2180重庆-郑州航班巡航阶段发生RA警告\n",
      "2011年6月15日深航B737-700/B-6914执行CA3129杭州-天津航班进近阶段触发RA警告\n",
      "2013年12月15日深航B737-700/B-0587执行MF0241北京-北京航班巡航阶段触发RA警告\n",
      "2013年6月15日天津航A321-200/B-9513执行MU1338济州-重庆航班巡航阶段发生RA警告\n",
      "2014年6月5日华夏航B737-800/B-9110执行CA7895洛阳-郑州航班进近阶段发生RA警告\n",
      "2010年12月22日江西航B737-700/B-5089执行CZ2203温州-广州航班巡航阶段触发RA警告\n",
      "2013年12月5日江西航A321-200/B-5032执行MF2243深圳-上海浦东航班巡航阶段触发RA警告\n",
      "2013年12月5日华夏航B737-800/B-3003执行CZ0412广州-重庆航班巡航阶段发生RA警告\n",
      "2012年12月12日天津航A319-100/B-5957执行MF1507上海浦东-南京航班进近阶段触发RA警告\n"
     ]
    }
   ],
   "source": [
    "generate_n(aviation_incident_title, split=\"=>\", target=\"title\", n=10)"
   ]
  },
  {
   "cell_type": "code",
   "execution_count": 72,
   "metadata": {},
   "outputs": [
    {
     "name": "stdout",
     "output_type": "stream",
     "text": [
      "昨天我尝了腐竹凉拌茄子，你尝尝\n",
      "前天小明吃了木耳炒茄子，你猜好不好吃\n",
      "今天他尝了青椒凉拌土豆丝，好吃\n",
      "昨天他尝了腐竹炒鸡蛋，你猜好不好吃\n",
      "前天小明尝了尖椒凉拌皮蛋，你猜好不好吃\n",
      "昨天方方尝了青椒炒茄子，你尝尝\n",
      "前天小明尝了青椒炒皮蛋，不好吃\n",
      "昨天红红尝了青椒凉拌鸡蛋，你尝尝\n",
      "今天红红尝了黄豆拌饭酱凉拌鸡蛋，不好吃\n",
      "今天方方吃了尖椒凉拌油菜，好吃\n"
     ]
    }
   ],
   "source": [
    "generate_n(eat, split=\"=>\", target=\"sentence\", n=10)"
   ]
  },
  {
   "cell_type": "code",
   "execution_count": null,
   "metadata": {},
   "outputs": [],
   "source": []
  }
 ],
 "metadata": {
  "kernelspec": {
   "display_name": "Python 3",
   "language": "python",
   "name": "python3"
  },
  "language_info": {
   "codemirror_mode": {
    "name": "ipython",
    "version": 3
   },
   "file_extension": ".py",
   "mimetype": "text/x-python",
   "name": "python",
   "nbconvert_exporter": "python",
   "pygments_lexer": "ipython3",
   "version": "3.7.3"
  }
 },
 "nbformat": 4,
 "nbformat_minor": 2
}
